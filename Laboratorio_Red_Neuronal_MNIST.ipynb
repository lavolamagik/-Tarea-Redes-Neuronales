{
 "cells": [
  {
   "cell_type": "markdown",
   "id": "0e566d1d",
   "metadata": {},
   "source": [
    "\n",
    "# Laboratorio: Red Neuronal con MNIST  \n",
    "**Curso:** Machine Learning  \n",
    "**Total puntos:** 10\n",
    "\n",
    "**Objetivo:** Implementar una red neuronal simple para clasificar dígitos escritos a mano del conjunto de datos MNIST utilizando Python y Keras.\n"
   ]
  },
  {
   "cell_type": "markdown",
   "id": "d6ff2177",
   "metadata": {},
   "source": [
    "\n",
    "## Paso 1: Cargar el conjunto de datos MNIST (1 punto)\n",
    "\n",
    "Ejecuta el siguiente bloque para descargar y explorar el conjunto de datos.\n"
   ]
  },
  {
   "cell_type": "code",
   "execution_count": 13,
   "id": "7c659575",
   "metadata": {},
   "outputs": [
    {
     "name": "stdout",
     "output_type": "stream",
     "text": [
      "Tamaño del set de entrenamiento: (60000, 28, 28)\n",
      "Tamaño del set de test: (10000, 28, 28)\n"
     ]
    }
   ],
   "source": [
    "\n",
    "from tensorflow.keras.datasets import mnist\n",
    "\n",
    "# Cargar datos\n",
    "(x_train, y_train), (x_test, y_test) = mnist.load_data()\n",
    "\n",
    "print(\"Tamaño del set de entrenamiento:\", x_train.shape)\n",
    "print(\"Tamaño del set de test:\", x_test.shape)\n"
   ]
  },
  {
   "cell_type": "markdown",
   "id": "8c2895d0",
   "metadata": {},
   "source": [
    "\n",
    "## Paso 2: Visualizar ejemplos del dataset (1 punto)\n",
    "\n",
    "✏️ **Slot para completar:** Visualiza al menos 5 imágenes con sus etiquetas utilizando `matplotlib.pyplot.imshow()`.\n"
   ]
  },
  {
   "cell_type": "code",
   "execution_count": 14,
   "id": "1fab1a72",
   "metadata": {},
   "outputs": [
    {
     "data": {
      "image/png": "[encoded data removed]",
      "text/plain": [
       "<Figure size 1000x300 with 5 Axes>"
      ]
     },
     "metadata": {},
     "output_type": "display_data"
    }
   ],
   "source": [
    "\n",
    "# COMPLETA AQUÍ: Visualización de imágenes con sus etiquetas\n",
    "import matplotlib.pyplot as plt\n",
    "\n",
    "# Visualizar 5 imágenes\n",
    "plt.figure(figsize=(10, 3))\n",
    "for i in range(5):\n",
    "    plt.subplot(1, 5, i+1)\n",
    "    plt.imshow(x_train[i], cmap='gray')\n",
    "    plt.title(f'Label: {y_train[i]}')\n",
    "    plt.axis('off')\n",
    "plt.tight_layout()\n",
    "plt.show()\n"
   ]
  },
  {
   "cell_type": "markdown",
   "id": "9e5bc3a8",
   "metadata": {},
   "source": [
    "\n",
    "## Paso 3: Preprocesamiento (1 punto)\n",
    "\n",
    "✏️ **Slot para completar:** \n",
    "- Normaliza las imágenes (divide por 255.0).\n",
    "- Aplana cada imagen a un vector de 784 valores.\n",
    "- Codifica las etiquetas con `to_categorical`.\n"
   ]
  },
  {
   "cell_type": "code",
   "execution_count": 15,
   "id": "40757ea1",
   "metadata": {},
   "outputs": [
    {
     "name": "stdout",
     "output_type": "stream",
     "text": [
      "Nuevo tamaño de x_train: (60000, 784)\n",
      "Nuevo tamaño de x_test: (10000, 784)\n",
      "Nuevo tamaño de y_train: (60000, 10)\n",
      "Nuevo tamaño de y_test: (10000, 10)\n"
     ]
    }
   ],
   "source": [
    "\n",
    "# COMPLETA AQUÍ: Normalización, flattening y codificación one-hot\n",
    "from tensorflow.keras.utils import to_categorical\n",
    "\n",
    "# - Normaliza las imágenes (divide por 255.0).\n",
    "x_train = x_train.astype('float32') / 255.0\n",
    "x_test = x_test.astype('float32') / 255.0\n",
    "\n",
    "# - Aplana cada imagen a un vector de 784 valores.\n",
    "x_train = x_train.reshape(x_train.shape[0], 784)\n",
    "x_test = x_test.reshape(x_test.shape[0], 784)\n",
    "\n",
    "# - Codifica las etiquetas con `to_categorical`.\n",
    "y_train = to_categorical(y_train, 10)\n",
    "y_test = to_categorical(y_test, 10)\n",
    "\n",
    "# Verificación de las nuevas formas\n",
    "print(\"Nuevo tamaño de x_train:\", x_train.shape)\n",
    "print(\"Nuevo tamaño de x_test:\", x_test.shape)\n",
    "print(\"Nuevo tamaño de y_train:\", y_train.shape)\n",
    "print(\"Nuevo tamaño de y_test:\", y_test.shape)"
   ]
  },
  {
   "cell_type": "markdown",
   "id": "36e5006d",
   "metadata": {},
   "source": [
    "\n",
    "## Paso 4: Definir la red neuronal (2 puntos)\n",
    "\n",
    "✏️ **Slot para completar:** \n",
    "- Crea un modelo `Sequential`.\n",
    "- Agrega una capa oculta con activación ReLU.\n",
    "- Agrega una capa de salida con activación Softmax.\n",
    "- Compila el modelo con `adam` y `categorical_crossentropy`.\n"
   ]
  },
  {
   "cell_type": "code",
   "execution_count": 16,
   "id": "9256bacd",
   "metadata": {},
   "outputs": [
    {
     "data": {
      "text/html": [
       "<pre style=\"white-space:pre;overflow-x:auto;line-height:normal;font-family:Menlo,'DejaVu Sans Mono',consolas,'Courier New',monospace\"><span style=\"font-weight: bold\">Model: \"sequential_4\"</span>\n",
       "</pre>\n"
      ],
      "text/plain": [
       "\u001b[1mModel: \"sequential_4\"\u001b[0m\n"
      ]
     },
     "metadata": {},
     "output_type": "display_data"
    },
    {
     "data": {
      "text/html": [
       "<pre style=\"white-space:pre;overflow-x:auto;line-height:normal;font-family:Menlo,'DejaVu Sans Mono',consolas,'Courier New',monospace\">┏━━━━━━━━━━━━━━━━━━━━━━━━━━━━━━━━━┳━━━━━━━━━━━━━━━━━━━━━━━━┳━━━━━━━━━━━━━━━┓\n",
       "┃<span style=\"font-weight: bold\"> Layer (type)                    </span>┃<span style=\"font-weight: bold\"> Output Shape           </span>┃<span style=\"font-weight: bold\">       Param # </span>┃\n",
       "┡━━━━━━━━━━━━━━━━━━━━━━━━━━━━━━━━━╇━━━━━━━━━━━━━━━━━━━━━━━━╇━━━━━━━━━━━━━━━┩\n",
       "│ dense_8 (<span style=\"color: #0087ff; text-decoration-color: #0087ff\">Dense</span>)                 │ (<span style=\"color: #00d7ff; text-decoration-color: #00d7ff\">None</span>, <span style=\"color: #00af00; text-decoration-color: #00af00\">512</span>)            │       <span style=\"color: #00af00; text-decoration-color: #00af00\">401,920</span> │\n",
       "├─────────────────────────────────┼────────────────────────┼───────────────┤\n",
       "│ dense_9 (<span style=\"color: #0087ff; text-decoration-color: #0087ff\">Dense</span>)                 │ (<span style=\"color: #00d7ff; text-decoration-color: #00d7ff\">None</span>, <span style=\"color: #00af00; text-decoration-color: #00af00\">10</span>)             │         <span style=\"color: #00af00; text-decoration-color: #00af00\">5,130</span> │\n",
       "└─────────────────────────────────┴────────────────────────┴───────────────┘\n",
       "</pre>\n"
      ],
      "text/plain": [
       "┏━━━━━━━━━━━━━━━━━━━━━━━━━━━━━━━━━┳━━━━━━━━━━━━━━━━━━━━━━━━┳━━━━━━━━━━━━━━━┓\n",
       "┃\u001b[1m \u001b[0m\u001b[1mLayer (type)                   \u001b[0m\u001b[1m \u001b[0m┃\u001b[1m \u001b[0m\u001b[1mOutput Shape          \u001b[0m\u001b[1m \u001b[0m┃\u001b[1m \u001b[0m\u001b[1m      Param #\u001b[0m\u001b[1m \u001b[0m┃\n",
       "┡━━━━━━━━━━━━━━━━━━━━━━━━━━━━━━━━━╇━━━━━━━━━━━━━━━━━━━━━━━━╇━━━━━━━━━━━━━━━┩\n",
       "│ dense_8 (\u001b[38;5;33mDense\u001b[0m)                 │ (\u001b[38;5;45mNone\u001b[0m, \u001b[38;5;34m512\u001b[0m)            │       \u001b[38;5;34m401,920\u001b[0m │\n",
       "├─────────────────────────────────┼────────────────────────┼───────────────┤\n",
       "│ dense_9 (\u001b[38;5;33mDense\u001b[0m)                 │ (\u001b[38;5;45mNone\u001b[0m, \u001b[38;5;34m10\u001b[0m)             │         \u001b[38;5;34m5,130\u001b[0m │\n",
       "└─────────────────────────────────┴────────────────────────┴───────────────┘\n"
      ]
     },
     "metadata": {},
     "output_type": "display_data"
    },
    {
     "data": {
      "text/html": [
       "<pre style=\"white-space:pre;overflow-x:auto;line-height:normal;font-family:Menlo,'DejaVu Sans Mono',consolas,'Courier New',monospace\"><span style=\"font-weight: bold\"> Total params: </span><span style=\"color: #00af00; text-decoration-color: #00af00\">407,050</span> (1.55 MB)\n",
       "</pre>\n"
      ],
      "text/plain": [
       "\u001b[1m Total params: \u001b[0m\u001b[38;5;34m407,050\u001b[0m (1.55 MB)\n"
      ]
     },
     "metadata": {},
     "output_type": "display_data"
    },
    {
     "data": {
      "text/html": [
       "<pre style=\"white-space:pre;overflow-x:auto;line-height:normal;font-family:Menlo,'DejaVu Sans Mono',consolas,'Courier New',monospace\"><span style=\"font-weight: bold\"> Trainable params: </span><span style=\"color: #00af00; text-decoration-color: #00af00\">407,050</span> (1.55 MB)\n",
       "</pre>\n"
      ],
      "text/plain": [
       "\u001b[1m Trainable params: \u001b[0m\u001b[38;5;34m407,050\u001b[0m (1.55 MB)\n"
      ]
     },
     "metadata": {},
     "output_type": "display_data"
    },
    {
     "data": {
      "text/html": [
       "<pre style=\"white-space:pre;overflow-x:auto;line-height:normal;font-family:Menlo,'DejaVu Sans Mono',consolas,'Courier New',monospace\"><span style=\"font-weight: bold\"> Non-trainable params: </span><span style=\"color: #00af00; text-decoration-color: #00af00\">0</span> (0.00 B)\n",
       "</pre>\n"
      ],
      "text/plain": [
       "\u001b[1m Non-trainable params: \u001b[0m\u001b[38;5;34m0\u001b[0m (0.00 B)\n"
      ]
     },
     "metadata": {},
     "output_type": "display_data"
    }
   ],
   "source": [
    "\n",
    "# COMPLETA AQUÍ: Definición y compilación del modelo\n",
    "from tensorflow.keras.models import Sequential\n",
    "from tensorflow.keras.layers import Dense\n",
    "\n",
    "# Crear modelo Sequential\n",
    "model = Sequential()\n",
    "\n",
    "# Agregar capa oculta con activación ReLU\n",
    "model.add(Dense(512, activation='relu', input_shape=(784,)))\n",
    "\n",
    "# Agregar capa de salida con activación Softmax\n",
    "model.add(Dense(10, activation='softmax'))\n",
    "\n",
    "# Compilar el modelo con adam y categorical_crossentropy\n",
    "model.compile(optimizer='adam',\n",
    "              loss='categorical_crossentropy',\n",
    "              metrics=['accuracy'])\n",
    "\n",
    "# Mostrar resumen del modelo\n",
    "model.summary()\n"
   ]
  },
  {
   "cell_type": "markdown",
   "id": "32fa8560",
   "metadata": {},
   "source": [
    "\n",
    "## Paso 5: Entrenar el modelo (1 punto)\n",
    "\n",
    "✏️ **Slot para completar:** Entrena el modelo con `fit` durante 5 épocas y batch size 32.\n"
   ]
  },
  {
   "cell_type": "code",
   "execution_count": 24,
   "id": "df8023c2",
   "metadata": {},
   "outputs": [
    {
     "name": "stdout",
     "output_type": "stream",
     "text": [
      "Epoch 1/5\n",
      "\u001b[1m1875/1875\u001b[0m \u001b[32m━━━━━━━━━━━━━━━━━━━━\u001b[0m\u001b[37m\u001b[0m \u001b[1m7s\u001b[0m 4ms/step - accuracy: 0.9936 - loss: 0.0205 - val_accuracy: 0.9795 - val_loss: 0.0711\n",
      "Epoch 2/5\n",
      "\u001b[1m1875/1875\u001b[0m \u001b[32m━━━━━━━━━━━━━━━━━━━━\u001b[0m\u001b[37m\u001b[0m \u001b[1m6s\u001b[0m 3ms/step - accuracy: 0.9957 - loss: 0.0137 - val_accuracy: 0.9771 - val_loss: 0.0879\n",
      "Epoch 3/5\n",
      "\u001b[1m1875/1875\u001b[0m \u001b[32m━━━━━━━━━━━━━━━━━━━━\u001b[0m\u001b[37m\u001b[0m \u001b[1m6s\u001b[0m 3ms/step - accuracy: 0.9945 - loss: 0.0171 - val_accuracy: 0.9753 - val_loss: 0.1043\n",
      "Epoch 4/5\n",
      "\u001b[1m1875/1875\u001b[0m \u001b[32m━━━━━━━━━━━━━━━━━━━━\u001b[0m\u001b[37m\u001b[0m \u001b[1m7s\u001b[0m 4ms/step - accuracy: 0.9967 - loss: 0.0103 - val_accuracy: 0.9804 - val_loss: 0.0844\n",
      "Epoch 5/5\n",
      "\u001b[1m1875/1875\u001b[0m \u001b[32m━━━━━━━━━━━━━━━━━━━━\u001b[0m\u001b[37m\u001b[0m \u001b[1m7s\u001b[0m 4ms/step - accuracy: 0.9964 - loss: 0.0105 - val_accuracy: 0.9819 - val_loss: 0.0820\n"
     ]
    },
    {
     "data": {
      "image/png": "[encoded data removed]",
      "text/plain": [
       "<Figure size 1200x400 with 2 Axes>"
      ]
     },
     "metadata": {},
     "output_type": "display_data"
    }
   ],
   "source": [
    "# Paso 5: Entrenar el modelo (1 punto)\n",
    "\n",
    "# - Asegurar que las dimensiones son correctas\n",
    "if len(y_train.shape) > 2:\n",
    "    y_train = y_train.reshape(y_train.shape[0], -1)[:, :10]\n",
    "if len(y_test.shape) > 2:\n",
    "    y_test = y_test.reshape(y_test.shape[0], -1)[:, :10]\n",
    "\n",
    "\n",
    "# -Entrenar con un batch_size 32 y epochs 5\n",
    "try:\n",
    "    history = model.fit(\n",
    "        x_train, y_train,\n",
    "        batch_size=32,\n",
    "        epochs=5,\n",
    "        validation_data=(x_test, y_test),\n",
    "        verbose=1\n",
    "    )\n",
    "except ValueError as e:\n",
    "    print(\"Error durante el entrenamiento:\", e)\n",
    "\n",
    "# -Visualización de resultados\n",
    "plt.figure(figsize=(12, 4))\n",
    "plt.subplot(1, 2, 1)\n",
    "plt.plot(history.history['accuracy'], label='Entrenamiento')\n",
    "plt.plot(history.history['val_accuracy'], label='Validación')\n",
    "plt.title('Precisión durante el entrenamiento')\n",
    "plt.legend()\n",
    "\n",
    "plt.subplot(1, 2, 2)\n",
    "plt.plot(history.history['loss'], label='Entrenamiento')\n",
    "plt.plot(history.history['val_loss'], label='Validación')\n",
    "plt.title('Pérdida durante el entrenamiento')\n",
    "plt.legend()\n",
    "\n",
    "plt.tight_layout()\n",
    "plt.show()"
   ]
  },
  {
   "cell_type": "markdown",
   "id": "abd4ea81",
   "metadata": {},
   "source": [
    "\n",
    "## Paso 6: Evaluar el modelo (1 punto)\n",
    "\n",
    "✏️ **Slot para completar:** Evalúa el modelo con `evaluate()` en el conjunto de prueba.\n"
   ]
  },
  {
   "cell_type": "code",
   "execution_count": 30,
   "id": "fed31d1c",
   "metadata": {},
   "outputs": [
    {
     "name": "stdout",
     "output_type": "stream",
     "text": [
      "\n",
      "Resultados de la evaluación:\n",
      "Precisión en el conjunto de prueba: 0.9819\n",
      "Pérdida en el conjunto de prueba: 0.0820\n",
      "\u001b[1m1/1\u001b[0m \u001b[32m━━━━━━━━━━━━━━━━━━━━\u001b[0m\u001b[37m\u001b[0m \u001b[1m0s\u001b[0m 32ms/step\n"
     ]
    },
    {
     "data": {
      "image/png": "[encoded data removed]",
      "text/plain": [
       "<Figure size 1200x300 with 5 Axes>"
      ]
     },
     "metadata": {},
     "output_type": "display_data"
    }
   ],
   "source": [
    "\n",
    "# COMPLETA AQUÍ: Evaluación del modelo\n",
    "import numpy as np\n",
    "\n",
    "# Evaluación del modelo en el conjunto de prueba\n",
    "test_loss, test_accuracy = model.evaluate(x_test, y_test, verbose=0)\n",
    "\n",
    "print(\"\\nResultados de la evaluación:\")\n",
    "print(f\"Precisión en el conjunto de prueba: {test_accuracy:.4f}\")\n",
    "print(f\"Pérdida en el conjunto de prueba: {test_loss:.4f}\")\n",
    "\n",
    "\n",
    "# Seleccionar 5 muestras aleatorias del conjunto de prueba\n",
    "sample_indices = np.random.choice(len(x_test), 5)\n",
    "samples = x_test[sample_indices]\n",
    "true_labels = np.argmax(y_test[sample_indices], axis=1)\n",
    "\n",
    "# Hacer predicciones\n",
    "predictions = model.predict(samples)\n",
    "predicted_labels = np.argmax(predictions, axis=1)\n",
    "\n",
    "# Visualizar resultados\n",
    "plt.figure(figsize=(12, 3))\n",
    "for i, (sample, true_label, pred_label) in enumerate(zip(samples, true_labels, predicted_labels)):\n",
    "    plt.subplot(1, 5, i+1)\n",
    "    plt.imshow(sample.reshape(28, 28), cmap='gray')\n",
    "    plt.title(f\"Real: {true_label}\\nPred: {pred_label}\")\n",
    "    plt.axis('off')\n",
    "    \n",
    "    # Marcar en rojo las predicciones incorrectas\n",
    "    if true_label != pred_label:\n",
    "        plt.gca().set_frame_on(True)\n",
    "        plt.gca().patch.set_edgecolor('red')\n",
    "        plt.gca().patch.set_linewidth(3)\n",
    "        \n",
    "plt.tight_layout()\n",
    "plt.show()"
   ]
  },
  {
   "cell_type": "markdown",
   "id": "7b5a1fd0",
   "metadata": {},
   "source": [
    "## Preguntas de Reflexión (3 puntos en total)"
   ]
  },
  {
   "cell_type": "markdown",
   "id": "7455c9fb",
   "metadata": {},
   "source": [
    "### 1. ¿Qué ventaja observas al usar codificación one-hot para las etiquetas? (0.5 punto)"
   ]
  },
  {
   "cell_type": "markdown",
   "id": "967253a1",
   "metadata": {},
   "source": [
    "Una de las ventajas de la codificación one-hot es que evita que el modelo interprete las etiquetas (como los dígitos del 0 al 9) como valores numéricos con orden o peso. Al convertirlas en vectores binarios (como el 3 que pasa a ser [0,0,0,1,0,...,0]), le decimos a la red que son categorías independientes."
   ]
  },
  {
   "cell_type": "markdown",
   "id": "dbd9f5f9",
   "metadata": {},
   "source": [
    "### 2. ¿Qué ocurre si aumentas o disminuyes el número de neuronas ocultas? (0.5 punto)"
   ]
  },
  {
   "cell_type": "markdown",
   "id": "8a2e6b3e",
   "metadata": {},
   "source": [
    "Si le metemos más neuronas a la capa oculta, el modelo gana flexibilidad para aprender patrones complejos, pero puede terminar memorizando los datos de entrenamiento y con menos neuronas, quizá no capture bien las características y falle en generalizar."
   ]
  },
  {
   "cell_type": "markdown",
   "id": "2a1bf432",
   "metadata": {},
   "source": [
    "### 3. ¿Qué alternativa propondrías al optimizador `adam` y por qué? (0.5 punto)"
   ]
  },
  {
   "cell_type": "markdown",
   "id": "dc9c51d6",
   "metadata": {},
   "source": [
    "Yo propondria probar SGD con momentum, ya que es más controlable, no ajusta automáticamente la tasa de aprendizaje como Adam, pero con un buen momentum ( 0.9) puede esquivar mínimos locales y converger mejor en problemas específicos.Adam es como mas automatico a diferencia de SGD."
   ]
  },
  {
   "cell_type": "markdown",
   "id": "c56b32ea",
   "metadata": {},
   "source": [
    "### 4. ¿Cómo cambia el desempeño si entrenas más épocas? ¿Cuál es el riesgo? (0.5 punto)"
   ]
  },
  {
   "cell_type": "markdown",
   "id": "0dc5dcaf",
   "metadata": {},
   "source": [
    "El rendimiento es mejor si son los mismos datos siempre pero en datos nuevos empieza a empeorar ya que el modelo memoriza con los datos con los que se entrenó y al presentarse casos nuevos podria fallar."
   ]
  },
  {
   "cell_type": "markdown",
   "id": "d79eea4a",
   "metadata": {},
   "source": [
    "### 5. ¿Por qué es importante dividir en conjuntos de entrenamiento y prueba? (1 punto)"
   ]
  },
  {
   "cell_type": "markdown",
   "id": "227e781e",
   "metadata": {},
   "source": [
    "La división entre conjuntos de entrenamiento y prueba es importante porque nos permite evaluar la capacidad de generalización del modelo. El conjunto de entrenamiento se utiliza para que el modelo aprenda los patrones de los datos y el conjunto de prueba sirve como una validación independiente que simula cómo se comportaría con información que el modelo no conoce."
   ]
  }
 ],
 "metadata": {
  "kernelspec": {
   "display_name": "Python 3",
   "language": "python",
   "name": "python3"
  },
  "language_info": {
   "codemirror_mode": {
    "name": "ipython",
    "version": 3
   },
   "file_extension": ".py",
   "mimetype": "text/x-python",
   "name": "python",
   "nbconvert_exporter": "python",
   "pygments_lexer": "ipython3",
   "version": "3.12.5"
  }
 },
 "nbformat": 4,
 "nbformat_minor": 5
}
