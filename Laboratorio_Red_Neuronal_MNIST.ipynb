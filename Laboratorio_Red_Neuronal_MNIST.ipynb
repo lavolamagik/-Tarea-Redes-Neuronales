{
 "cells": [
  {
   "cell_type": "markdown",
   "id": "0e566d1d",
   "metadata": {},
   "source": [
    "\n",
    "# Laboratorio: Red Neuronal con MNIST  \n",
    "**Curso:** Machine Learning  \n",
    "**Total puntos:** 10\n",
    "\n",
    "**Objetivo:** Implementar una red neuronal simple para clasificar dígitos escritos a mano del conjunto de datos MNIST utilizando Python y Keras.\n"
   ]
  },
  {
   "cell_type": "markdown",
   "id": "d6ff2177",
   "metadata": {},
   "source": [
    "\n",
    "## Paso 1: Cargar el conjunto de datos MNIST (1 punto)\n",
    "\n",
    "Ejecuta el siguiente bloque para descargar y explorar el conjunto de datos.\n"
   ]
  },
  {
   "cell_type": "code",
   "execution_count": null,
   "id": "7c659575",
   "metadata": {},
   "outputs": [],
   "source": [
    "\n",
    "from tensorflow.keras.datasets import mnist\n",
    "\n",
    "# Cargar datos\n",
    "(x_train, y_train), (x_test, y_test) = mnist.load_data()\n",
    "\n",
    "print(\"Tamaño del set de entrenamiento:\", x_train.shape)\n",
    "print(\"Tamaño del set de test:\", x_test.shape)\n"
   ]
  },
  {
   "cell_type": "markdown",
   "id": "8c2895d0",
   "metadata": {},
   "source": [
    "\n",
    "## Paso 2: Visualizar ejemplos del dataset (1 punto)\n",
    "\n",
    "✏️ **Slot para completar:** Visualiza al menos 5 imágenes con sus etiquetas utilizando `matplotlib.pyplot.imshow()`.\n"
   ]
  },
  {
   "cell_type": "code",
   "execution_count": null,
   "id": "1fab1a72",
   "metadata": {},
   "outputs": [],
   "source": [
    "\n",
    "# COMPLETA AQUÍ: Visualización de imágenes con sus etiquetas\n"
   ]
  },
  {
   "cell_type": "markdown",
   "id": "9e5bc3a8",
   "metadata": {},
   "source": [
    "\n",
    "## Paso 3: Preprocesamiento (1 punto)\n",
    "\n",
    "✏️ **Slot para completar:** \n",
    "- Normaliza las imágenes (divide por 255.0).\n",
    "- Aplana cada imagen a un vector de 784 valores.\n",
    "- Codifica las etiquetas con `to_categorical`.\n"
   ]
  },
  {
   "cell_type": "code",
   "execution_count": null,
   "id": "40757ea1",
   "metadata": {},
   "outputs": [],
   "source": [
    "\n",
    "# COMPLETA AQUÍ: Normalización, flattening y codificación one-hot\n"
   ]
  },
  {
   "cell_type": "markdown",
   "id": "36e5006d",
   "metadata": {},
   "source": [
    "\n",
    "## Paso 4: Definir la red neuronal (2 puntos)\n",
    "\n",
    "✏️ **Slot para completar:** \n",
    "- Crea un modelo `Sequential`.\n",
    "- Agrega una capa oculta con activación ReLU.\n",
    "- Agrega una capa de salida con activación Softmax.\n",
    "- Compila el modelo con `adam` y `categorical_crossentropy`.\n"
   ]
  },
  {
   "cell_type": "code",
   "execution_count": null,
   "id": "9256bacd",
   "metadata": {},
   "outputs": [],
   "source": [
    "\n",
    "# COMPLETA AQUÍ: Definición y compilación del modelo\n"
   ]
  },
  {
   "cell_type": "markdown",
   "id": "32fa8560",
   "metadata": {},
   "source": [
    "\n",
    "## Paso 5: Entrenar el modelo (1 punto)\n",
    "\n",
    "✏️ **Slot para completar:** Entrena el modelo con `fit` durante 5 épocas y batch size 32.\n"
   ]
  },
  {
   "cell_type": "code",
   "execution_count": null,
   "id": "df8023c2",
   "metadata": {},
   "outputs": [],
   "source": [
    "\n",
    "# COMPLETA AQUÍ: Entrenamiento del modelo\n"
   ]
  },
  {
   "cell_type": "markdown",
   "id": "abd4ea81",
   "metadata": {},
   "source": [
    "\n",
    "## Paso 6: Evaluar el modelo (1 punto)\n",
    "\n",
    "✏️ **Slot para completar:** Evalúa el modelo con `evaluate()` en el conjunto de prueba.\n"
   ]
  },
  {
   "cell_type": "code",
   "execution_count": null,
   "id": "fed31d1c",
   "metadata": {},
   "outputs": [],
   "source": [
    "\n",
    "# COMPLETA AQUÍ: Evaluación del modelo\n"
   ]
  },
  {
   "cell_type": "markdown",
   "id": "7b5a1fd0",
   "metadata": {},
   "source": [
    "## Preguntas de Reflexión (3 puntos en total)"
   ]
  },
  {
   "cell_type": "markdown",
   "id": "7455c9fb",
   "metadata": {},
   "source": [
    "### 1. ¿Qué ventaja observas al usar codificación one-hot para las etiquetas? (0.5 punto)"
   ]
  },
  {
   "cell_type": "code",
   "execution_count": null,
   "id": "d7940958",
   "metadata": {},
   "outputs": [],
   "source": [
    "# Tu respuesta aquí"
   ]
  },
  {
   "cell_type": "markdown",
   "id": "dbd9f5f9",
   "metadata": {},
   "source": [
    "### 2. ¿Qué ocurre si aumentas o disminuyes el número de neuronas ocultas? (0.5 punto)"
   ]
  },
  {
   "cell_type": "code",
   "execution_count": null,
   "id": "998b05b8",
   "metadata": {},
   "outputs": [],
   "source": [
    "# Tu respuesta aquí"
   ]
  },
  {
   "cell_type": "markdown",
   "id": "2a1bf432",
   "metadata": {},
   "source": [
    "### 3. ¿Qué alternativa propondrías al optimizador `adam` y por qué? (0.5 punto)"
   ]
  },
  {
   "cell_type": "code",
   "execution_count": null,
   "id": "d57b11e7",
   "metadata": {},
   "outputs": [],
   "source": [
    "# Tu respuesta aquí"
   ]
  },
  {
   "cell_type": "markdown",
   "id": "c56b32ea",
   "metadata": {},
   "source": [
    "### 4. ¿Cómo cambia el desempeño si entrenas más épocas? ¿Cuál es el riesgo? (0.5 punto)"
   ]
  },
  {
   "cell_type": "code",
   "execution_count": null,
   "id": "424e5803",
   "metadata": {},
   "outputs": [],
   "source": [
    "# Tu respuesta aquí"
   ]
  },
  {
   "cell_type": "markdown",
   "id": "d79eea4a",
   "metadata": {},
   "source": [
    "### 5. ¿Por qué es importante dividir en conjuntos de entrenamiento y prueba? (1 punto)"
   ]
  },
  {
   "cell_type": "code",
   "execution_count": null,
   "id": "7e37c659",
   "metadata": {},
   "outputs": [],
   "source": [
    "# Tu respuesta aquí"
   ]
  }
 ],
 "metadata": {},
 "nbformat": 4,
 "nbformat_minor": 5
}
